{
 "cells": [
  {
   "cell_type": "code",
   "execution_count": null,
   "metadata": {},
   "outputs": [],
   "source": [
    "%load_ext autoreload\n",
    "import torch\n",
    "import sys\n",
    "from pathlib import Path\n",
    "sys.path.append(str(Path.cwd().parent))\n",
    "import warnings\n",
    "warnings.filterwarnings(\"ignore\", category=FutureWarning, message=\".*weights_only=False.*\")\n",
    "device = torch.device('cuda' if torch.cuda.is_available() else 'cpu')\n",
    "test_path = '../Data/unseen/xeroa'\n",
    "map_path = list(Path(test_path).glob('*.osu'))[0]\n",
    "P_VERSION = '1.0'\n",
    "K_VERSION = '1.0'"
   ]
  },
  {
   "cell_type": "code",
   "execution_count": null,
   "metadata": {},
   "outputs": [],
   "source": [
    "# Position\n",
    "%autoreload 2\n",
    "from utils.dataparser.PositionData import PositionData\n",
    "from Model.modelmanager.PositionModel import PositionModel\n",
    "p_model_config= torch.load(f'./trained_models/[POS]NOSU_{P_VERSION}.pth')\n",
    "p_data_config = {\n",
    "    'pos_context_size': p_model_config['hyperparameters']['context_size'],\n",
    "    'pos_time_window': p_model_config['hyperparameters']['time_window']\n",
    "}\n",
    "p_data = PositionData(None, p_data_config)\n",
    "inputs, p_time, _ = p_data.generate_one(map_path)\n",
    "p_model = PositionModel(None, None, device, p_model_config)\n",
    "p_predictions = p_model.predict(inputs)"
   ]
  },
  {
   "cell_type": "code",
   "execution_count": null,
   "metadata": {},
   "outputs": [],
   "source": [
    "# Keypress\n",
    "%autoreload 2\n",
    "from utils.dataparser.KeypressData import KeypressData\n",
    "from Model.modelmanager.KeypressModel import KeypressModel\n",
    "k_model_config = torch.load(f'./trained_models/[KEY]NOSU_{K_VERSION}.pth')\n",
    "k_data_config = {\n",
    "    'key_context_size': k_model_config['hyperparameters']['context_size'],\n",
    "    'key_time_window': k_model_config['hyperparameters']['time_window']\n",
    "}\n",
    "k_data = KeypressData(None, k_data_config)\n",
    "inputs, k_time, k_end_time = k_data.generate_one(map_path)\n",
    "k_model = KeypressModel(None, None, device, k_model_config)\n",
    "k_predictions = k_model.predict(inputs)"
   ]
  },
  {
   "cell_type": "code",
   "execution_count": 8,
   "metadata": {},
   "outputs": [],
   "source": [
    "# Post Processing\n",
    "%autoreload 2\n",
    "from utils.PostProcess import post_process, save_replay\n",
    "\n",
    "replay_data = post_process(p_predictions, k_predictions, p_time, k_time, k_end_time)\n",
    "save_replay(replay_data, '../replay_template.osr', map_path, p_model.name, k_model.name)"
   ]
  }
 ],
 "metadata": {
  "kernelspec": {
   "display_name": "osu",
   "language": "python",
   "name": "python3"
  },
  "language_info": {
   "codemirror_mode": {
    "name": "ipython",
    "version": 3
   },
   "file_extension": ".py",
   "mimetype": "text/x-python",
   "name": "python",
   "nbconvert_exporter": "python",
   "pygments_lexer": "ipython3",
   "version": "3.12.6"
  }
 },
 "nbformat": 4,
 "nbformat_minor": 2
}
