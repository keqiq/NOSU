{
 "cells": [
  {
   "cell_type": "code",
   "execution_count": 1,
   "metadata": {},
   "outputs": [],
   "source": [
    "%load_ext autoreload\n",
    "import json\n",
    "import warnings\n",
    "warnings.filterwarnings(\"ignore\", category=FutureWarning, message=\".*weights_only=False.*\")\n",
    "import sys\n",
    "from pathlib import Path\n",
    "sys.path.append(str(Path.cwd().parent))\n",
    "\n",
    "set_paths = {\n",
    "    'train': '../Data/train_pos',\n",
    "    'valid': '../Data/valid_pos'\n",
    "}\n",
    "\n",
    "with open('config.json', 'r') as f:\n",
    "    config = json.load(f)\n",
    "config = config['default']"
   ]
  },
  {
   "cell_type": "code",
   "execution_count": 2,
   "metadata": {},
   "outputs": [
    {
     "name": "stdout",
     "output_type": "stream",
     "text": [
      "Converting train data\n"
     ]
    },
    {
     "name": "stderr",
     "output_type": "stream",
     "text": [
      "100%|██████████| 35/35 [00:03<00:00, 10.07it/s]\n"
     ]
    },
    {
     "name": "stdout",
     "output_type": "stream",
     "text": [
      "0 failures out of 35 total tasks.\n",
      "Converting valid data\n"
     ]
    },
    {
     "name": "stderr",
     "output_type": "stream",
     "text": [
      "100%|██████████| 3/3 [00:01<00:00,  1.85it/s]\n"
     ]
    },
    {
     "name": "stdout",
     "output_type": "stream",
     "text": [
      "0 failures out of 3 total tasks.\n",
      "Generating train sequences\n"
     ]
    },
    {
     "name": "stderr",
     "output_type": "stream",
     "text": [
      "100%|██████████| 35/35 [00:11<00:00,  3.07it/s]\n"
     ]
    },
    {
     "name": "stdout",
     "output_type": "stream",
     "text": [
      "0 failures out of 35 total tasks.\n",
      "Generating valid sequences\n"
     ]
    },
    {
     "name": "stderr",
     "output_type": "stream",
     "text": [
      "100%|██████████| 3/3 [00:03<00:00,  1.21s/it]\n"
     ]
    },
    {
     "name": "stdout",
     "output_type": "stream",
     "text": [
      "0 failures out of 3 total tasks.\n",
      "Retrieving train sequences\n"
     ]
    },
    {
     "name": "stderr",
     "output_type": "stream",
     "text": [
      "100%|██████████| 35/35 [00:54<00:00,  1.55s/it]\n"
     ]
    },
    {
     "name": "stdout",
     "output_type": "stream",
     "text": [
      "Retrieving valid sequences\n"
     ]
    },
    {
     "name": "stderr",
     "output_type": "stream",
     "text": [
      "100%|██████████| 3/3 [00:05<00:00,  1.85s/it]\n"
     ]
    },
    {
     "name": "stdout",
     "output_type": "stream",
     "text": [
      "Creating training dataloader...Complete!\n",
      "Creating validation dataloaders...Complete!\n"
     ]
    }
   ],
   "source": [
    "# Data Parsing\n",
    "%autoreload 2\n",
    "from utils.dataparser.PositionData import PositionData\n",
    "from utils.dataparser.OSUDataloader import OSUDataloader\n",
    "\n",
    "p_data = PositionData(set_paths, config, True)\n",
    "p_dataloader = OSUDataloader(p_data, config, True)\n",
    "train_loader, valid_loaders = p_dataloader.get_loaders(set_paths)"
   ]
  },
  {
   "cell_type": "code",
   "execution_count": 6,
   "metadata": {},
   "outputs": [
    {
     "name": "stdout",
     "output_type": "stream",
     "text": [
      "Epoch [1/200] LR [1e-02/1e-06] T Loss Replay: 0.0698 | V Loss Replay: 0.0400 | T Loss Object: 0.0775 | V Loss Object: 0.0081\n",
      "Epoch [2/200] LR [1e-02/1e-06] T Loss Replay: 0.0346 | V Loss Replay: 0.0323 | T Loss Object: 0.0054 | V Loss Object: 0.0033\n",
      "Epoch [3/200] LR [1e-02/1e-06] T Loss Replay: 0.0306 | V Loss Replay: 0.0294 | T Loss Object: 0.0029 | V Loss Object: 0.0023\n",
      "Epoch [4/200] LR [1e-02/1e-06] T Loss Replay: 0.0280 | V Loss Replay: 0.0290 | T Loss Object: 0.0020 | V Loss Object: 0.0013\n",
      "Epoch [5/200] LR [1e-02/1e-06] T Loss Replay: 0.0274 | V Loss Replay: 0.0271 | T Loss Object: 0.0017 | V Loss Object: 0.0016\n",
      "Epoch [6/200] LR [1e-02/1e-06] T Loss Replay: 0.0252 | V Loss Replay: 0.0321 | T Loss Object: 0.0014 | V Loss Object: 0.0015\n",
      "Epoch [7/200] LR [1e-02/1e-06] T Loss Replay: 0.0252 | V Loss Replay: 0.0282 | T Loss Object: 0.0014 | V Loss Object: 0.0019\n",
      "Epoch [8/200] LR [1e-02/1e-06] T Loss Replay: 0.0252 | V Loss Replay: 0.0273 | T Loss Object: 0.0013 | V Loss Object: 0.0019\n",
      "Epoch [9/200] LR [1e-02/1e-06] T Loss Replay: 0.0251 | V Loss Replay: 0.0289 | T Loss Object: 0.0012 | V Loss Object: 0.0016\n",
      "Epoch [10/200] LR [1e-02/1e-06] T Loss Replay: 0.0246 | V Loss Replay: 0.0352 | T Loss Object: 0.0012 | V Loss Object: 0.0016\n",
      "Epoch [11/200] LR [1e-02/1e-06] T Loss Replay: 0.0239 | V Loss Replay: 0.0258 | T Loss Object: 0.0011 | V Loss Object: 0.0011\n",
      "Epoch [12/200] LR [1e-02/1e-06] T Loss Replay: 0.0239 | V Loss Replay: 0.0265 | T Loss Object: 0.0011 | V Loss Object: 0.0008\n",
      "Epoch [13/200] LR [1e-02/1e-06] T Loss Replay: 0.0239 | V Loss Replay: 0.0263 | T Loss Object: 0.0011 | V Loss Object: 0.0014\n",
      "Epoch [14/200] LR [1e-02/1e-06] T Loss Replay: 0.0238 | V Loss Replay: 0.0334 | T Loss Object: 0.0011 | V Loss Object: 0.0014\n",
      "Epoch [15/200] LR [1e-02/1e-06] T Loss Replay: 0.0242 | V Loss Replay: 0.0255 | T Loss Object: 0.0011 | V Loss Object: 0.0015\n",
      "Epoch [16/200] LR [1e-02/1e-06] T Loss Replay: 0.0239 | V Loss Replay: 0.0262 | T Loss Object: 0.0010 | V Loss Object: 0.0014\n",
      "Epoch [17/200] LR [1e-02/1e-06] T Loss Replay: 0.0232 | V Loss Replay: 0.0267 | T Loss Object: 0.0010 | V Loss Object: 0.0011\n",
      "Epoch [18/200] LR [1e-02/1e-06] T Loss Replay: 0.0236 | V Loss Replay: 0.0252 | T Loss Object: 0.0010 | V Loss Object: 0.0014\n",
      "Epoch [19/200] LR [1e-02/1e-06] T Loss Replay: 0.0232 | V Loss Replay: 0.0258 | T Loss Object: 0.0011 | V Loss Object: 0.0011\n",
      "Epoch [20/200] LR [1e-02/1e-06] T Loss Replay: 0.0233 | V Loss Replay: 0.0265 | T Loss Object: 0.0010 | V Loss Object: 0.0009\n",
      "Epoch [21/200] LR [1e-02/1e-06] T Loss Replay: 0.0233 | V Loss Replay: 0.0280 | T Loss Object: 0.0010 | V Loss Object: 0.0016\n",
      "Epoch [22/200] LR [1e-02/1e-06] T Loss Replay: 0.0233 | V Loss Replay: 0.0251 | T Loss Object: 0.0010 | V Loss Object: 0.0013\n",
      "Epoch [23/200] LR [1e-02/1e-06] T Loss Replay: 0.0232 | V Loss Replay: 0.0258 | T Loss Object: 0.0010 | V Loss Object: 0.0012\n",
      "Epoch [24/200] LR [1e-02/1e-06] T Loss Replay: 0.0230 | V Loss Replay: 0.0270 | T Loss Object: 0.0010 | V Loss Object: 0.0015\n",
      "Epoch [25/200] LR [1e-02/1e-06] T Loss Replay: 0.0229 | V Loss Replay: 0.0252 | T Loss Object: 0.0009 | V Loss Object: 0.0009\n",
      "Epoch [26/200] LR [1e-02/1e-06] T Loss Replay: 0.0230 | V Loss Replay: 0.0288 | T Loss Object: 0.0009 | V Loss Object: 0.0008\n",
      "Epoch [27/200] LR [1e-02/1e-06] T Loss Replay: 0.0230 | V Loss Replay: 0.0258 | T Loss Object: 0.0010 | V Loss Object: 0.0005\n",
      "Epoch [28/200] LR [1e-02/1e-06] T Loss Replay: 0.0229 | V Loss Replay: 0.0252 | T Loss Object: 0.0009 | V Loss Object: 0.0009\n",
      "Epoch [29/200] LR [1e-02/1e-06] T Loss Replay: 0.0228 | V Loss Replay: 0.0273 | T Loss Object: 0.0009 | V Loss Object: 0.0017\n",
      "Epoch [30/200] LR [1e-02/1e-06] T Loss Replay: 0.0233 | V Loss Replay: 0.0282 | T Loss Object: 0.0009 | V Loss Object: 0.0013\n",
      "Epoch [31/200] LR [1e-02/1e-06] T Loss Replay: 0.0228 | V Loss Replay: 0.0247 | T Loss Object: 0.0009 | V Loss Object: 0.0019\n",
      "Epoch [32/200] LR [1e-02/1e-06] T Loss Replay: 0.0226 | V Loss Replay: 0.0257 | T Loss Object: 0.0009 | V Loss Object: 0.0019\n",
      "Epoch [33/200] LR [1e-02/1e-06] T Loss Replay: 0.0226 | V Loss Replay: 0.0286 | T Loss Object: 0.0009 | V Loss Object: 0.0008\n",
      "Epoch [34/200] LR [1e-02/1e-06] T Loss Replay: 0.0227 | V Loss Replay: 0.0251 | T Loss Object: 0.0009 | V Loss Object: 0.0022\n",
      "Epoch [35/200] LR [1e-02/1e-06] T Loss Replay: 0.0229 | V Loss Replay: 0.0257 | T Loss Object: 0.0009 | V Loss Object: 0.0008\n",
      "Epoch [36/200] LR [1e-02/1e-06] T Loss Replay: 0.0230 | V Loss Replay: 0.0251 | T Loss Object: 0.0009 | V Loss Object: 0.0006\n",
      "Epoch [37/200] LR [1e-02/1e-06] T Loss Replay: 0.0226 | V Loss Replay: 0.0258 | T Loss Object: 0.0009 | V Loss Object: 0.0005\n",
      "Epoch [38/200] LR [1e-02/1e-06] T Loss Replay: 0.0226 | V Loss Replay: 0.0267 | T Loss Object: 0.0009 | V Loss Object: 0.0011\n",
      "Epoch [39/200] LR [1e-02/1e-06] T Loss Replay: 0.0225 | V Loss Replay: 0.0255 | T Loss Object: 0.0009 | V Loss Object: 0.0006\n",
      "Epoch [40/200] LR [1e-02/1e-06] T Loss Replay: 0.0224 | V Loss Replay: 0.0259 | T Loss Object: 0.0008 | V Loss Object: 0.0007\n",
      "Epoch [41/200] LR [1e-02/1e-06] T Loss Replay: 0.0224 | V Loss Replay: 0.0254 | T Loss Object: 0.0009 | V Loss Object: 0.0014\n",
      "Epoch [42/200] LR [1e-02/1e-06] T Loss Replay: 0.0226 | V Loss Replay: 0.0255 | T Loss Object: 0.0009 | V Loss Object: 0.0009\n",
      "Epoch [43/200] LR [1e-02/1e-06] T Loss Replay: 0.0226 | V Loss Replay: 0.0263 | T Loss Object: 0.0009 | V Loss Object: 0.0009\n",
      "Epoch [44/200] LR [1e-02/1e-06] T Loss Replay: 0.0224 | V Loss Replay: 0.0263 | T Loss Object: 0.0009 | V Loss Object: 0.0005\n",
      "Epoch [45/200] LR [1e-02/1e-06] T Loss Replay: 0.0225 | V Loss Replay: 0.0260 | T Loss Object: 0.0009 | V Loss Object: 0.0009\n",
      "Epoch [46/200] LR [1e-02/1e-06] T Loss Replay: 0.0226 | V Loss Replay: 0.0248 | T Loss Object: 0.0008 | V Loss Object: 0.0017\n",
      "Epoch [47/200] LR [1e-03/1e-06] T Loss Replay: 0.0226 | V Loss Replay: 0.0263 | T Loss Object: 0.0009 | V Loss Object: 0.0006\n",
      "Epoch [48/200] LR [1e-03/1e-06] T Loss Replay: 0.0209 | V Loss Replay: 0.0244 | T Loss Object: 0.0006 | V Loss Object: 0.0008\n",
      "Epoch [49/200] LR [1e-03/1e-06] T Loss Replay: 0.0208 | V Loss Replay: 0.0246 | T Loss Object: 0.0006 | V Loss Object: 0.0007\n",
      "Epoch [50/200] LR [1e-03/1e-06] T Loss Replay: 0.0208 | V Loss Replay: 0.0243 | T Loss Object: 0.0006 | V Loss Object: 0.0007\n",
      "Epoch [51/200] LR [1e-03/1e-06] T Loss Replay: 0.0208 | V Loss Replay: 0.0246 | T Loss Object: 0.0006 | V Loss Object: 0.0008\n",
      "Epoch [52/200] LR [1e-03/1e-06] T Loss Replay: 0.0208 | V Loss Replay: 0.0243 | T Loss Object: 0.0006 | V Loss Object: 0.0008\n",
      "Epoch [53/200] LR [1e-03/1e-06] T Loss Replay: 0.0208 | V Loss Replay: 0.0242 | T Loss Object: 0.0006 | V Loss Object: 0.0006\n",
      "Epoch [54/200] LR [1e-03/1e-06] T Loss Replay: 0.0208 | V Loss Replay: 0.0243 | T Loss Object: 0.0006 | V Loss Object: 0.0006\n",
      "Epoch [55/200] LR [1e-03/1e-06] T Loss Replay: 0.0208 | V Loss Replay: 0.0245 | T Loss Object: 0.0006 | V Loss Object: 0.0005\n",
      "Epoch [56/200] LR [1e-03/1e-06] T Loss Replay: 0.0208 | V Loss Replay: 0.0243 | T Loss Object: 0.0005 | V Loss Object: 0.0007\n",
      "Epoch [57/200] LR [1e-03/1e-06] T Loss Replay: 0.0208 | V Loss Replay: 0.0245 | T Loss Object: 0.0006 | V Loss Object: 0.0007\n",
      "Epoch [58/200] LR [1e-03/1e-06] T Loss Replay: 0.0208 | V Loss Replay: 0.0243 | T Loss Object: 0.0006 | V Loss Object: 0.0007\n",
      "Epoch [59/200] LR [1e-03/1e-06] T Loss Replay: 0.0208 | V Loss Replay: 0.0243 | T Loss Object: 0.0006 | V Loss Object: 0.0007\n",
      "Epoch [60/200] LR [1e-03/1e-06] T Loss Replay: 0.0208 | V Loss Replay: 0.0247 | T Loss Object: 0.0005 | V Loss Object: 0.0004\n",
      "Epoch [61/200] LR [1e-03/1e-06] T Loss Replay: 0.0208 | V Loss Replay: 0.0246 | T Loss Object: 0.0006 | V Loss Object: 0.0004\n",
      "Epoch [62/200] LR [1e-03/1e-06] T Loss Replay: 0.0208 | V Loss Replay: 0.0243 | T Loss Object: 0.0006 | V Loss Object: 0.0008\n",
      "Epoch [63/200] LR [1e-03/1e-06] T Loss Replay: 0.0207 | V Loss Replay: 0.0241 | T Loss Object: 0.0005 | V Loss Object: 0.0008\n",
      "Epoch [64/200] LR [1e-03/1e-06] T Loss Replay: 0.0207 | V Loss Replay: 0.0244 | T Loss Object: 0.0005 | V Loss Object: 0.0005\n",
      "Epoch [65/200] LR [1e-03/1e-06] T Loss Replay: 0.0207 | V Loss Replay: 0.0243 | T Loss Object: 0.0005 | V Loss Object: 0.0006\n",
      "Epoch [66/200] LR [1e-03/1e-06] T Loss Replay: 0.0207 | V Loss Replay: 0.0244 | T Loss Object: 0.0005 | V Loss Object: 0.0007\n",
      "Epoch [67/200] LR [1e-03/1e-06] T Loss Replay: 0.0207 | V Loss Replay: 0.0243 | T Loss Object: 0.0006 | V Loss Object: 0.0007\n",
      "Epoch [68/200] LR [1e-03/1e-06] T Loss Replay: 0.0207 | V Loss Replay: 0.0246 | T Loss Object: 0.0005 | V Loss Object: 0.0008\n",
      "Epoch [69/200] LR [1e-03/1e-06] T Loss Replay: 0.0207 | V Loss Replay: 0.0249 | T Loss Object: 0.0006 | V Loss Object: 0.0006\n",
      "Epoch [70/200] LR [1e-03/1e-06] T Loss Replay: 0.0207 | V Loss Replay: 0.0244 | T Loss Object: 0.0006 | V Loss Object: 0.0005\n",
      "Epoch [71/200] LR [1e-03/1e-06] T Loss Replay: 0.0207 | V Loss Replay: 0.0244 | T Loss Object: 0.0005 | V Loss Object: 0.0008\n",
      "Epoch [72/200] LR [1e-03/1e-06] T Loss Replay: 0.0207 | V Loss Replay: 0.0246 | T Loss Object: 0.0005 | V Loss Object: 0.0006\n",
      "Epoch [73/200] LR [1e-03/1e-06] T Loss Replay: 0.0207 | V Loss Replay: 0.0244 | T Loss Object: 0.0005 | V Loss Object: 0.0007\n",
      "Epoch [74/200] LR [1e-03/1e-06] T Loss Replay: 0.0207 | V Loss Replay: 0.0241 | T Loss Object: 0.0006 | V Loss Object: 0.0006\n",
      "Epoch [75/200] LR [1e-03/1e-06] T Loss Replay: 0.0207 | V Loss Replay: 0.0244 | T Loss Object: 0.0005 | V Loss Object: 0.0005\n",
      "Epoch [76/200] LR [1e-03/1e-06] T Loss Replay: 0.0207 | V Loss Replay: 0.0247 | T Loss Object: 0.0005 | V Loss Object: 0.0005\n",
      "Epoch [77/200] LR [1e-03/1e-06] T Loss Replay: 0.0207 | V Loss Replay: 0.0245 | T Loss Object: 0.0005 | V Loss Object: 0.0005\n",
      "Epoch [78/200] LR [1e-03/1e-06] T Loss Replay: 0.0207 | V Loss Replay: 0.0243 | T Loss Object: 0.0005 | V Loss Object: 0.0005\n",
      "Epoch [79/200] LR [1e-04/1e-06] T Loss Replay: 0.0207 | V Loss Replay: 0.0244 | T Loss Object: 0.0005 | V Loss Object: 0.0005\n",
      "Epoch [80/200] LR [1e-04/1e-06] T Loss Replay: 0.0204 | V Loss Replay: 0.0242 | T Loss Object: 0.0005 | V Loss Object: 0.0005\n",
      "Epoch [81/200] LR [1e-04/1e-06] T Loss Replay: 0.0204 | V Loss Replay: 0.0243 | T Loss Object: 0.0005 | V Loss Object: 0.0005\n",
      "Epoch [82/200] LR [1e-04/1e-06] T Loss Replay: 0.0204 | V Loss Replay: 0.0243 | T Loss Object: 0.0005 | V Loss Object: 0.0005\n",
      "Epoch [83/200] LR [1e-04/1e-06] T Loss Replay: 0.0204 | V Loss Replay: 0.0241 | T Loss Object: 0.0005 | V Loss Object: 0.0006\n",
      "Epoch [84/200] LR [1e-04/1e-06] T Loss Replay: 0.0204 | V Loss Replay: 0.0242 | T Loss Object: 0.0005 | V Loss Object: 0.0006\n",
      "Epoch [85/200] LR [1e-04/1e-06] T Loss Replay: 0.0204 | V Loss Replay: 0.0243 | T Loss Object: 0.0005 | V Loss Object: 0.0005\n",
      "Epoch [86/200] LR [1e-04/1e-06] T Loss Replay: 0.0204 | V Loss Replay: 0.0243 | T Loss Object: 0.0005 | V Loss Object: 0.0004\n",
      "Epoch [87/200] LR [1e-04/1e-06] T Loss Replay: 0.0204 | V Loss Replay: 0.0241 | T Loss Object: 0.0005 | V Loss Object: 0.0006\n",
      "Epoch [88/200] LR [1e-04/1e-06] T Loss Replay: 0.0204 | V Loss Replay: 0.0241 | T Loss Object: 0.0005 | V Loss Object: 0.0006\n",
      "Epoch [89/200] LR [1e-04/1e-06] T Loss Replay: 0.0204 | V Loss Replay: 0.0242 | T Loss Object: 0.0005 | V Loss Object: 0.0005\n",
      "Epoch [90/200] LR [1e-04/1e-06] T Loss Replay: 0.0204 | V Loss Replay: 0.0243 | T Loss Object: 0.0005 | V Loss Object: 0.0005\n",
      "Epoch [91/200] LR [1e-04/1e-06] T Loss Replay: 0.0204 | V Loss Replay: 0.0243 | T Loss Object: 0.0005 | V Loss Object: 0.0005\n",
      "Epoch [92/200] LR [1e-04/1e-06] T Loss Replay: 0.0204 | V Loss Replay: 0.0242 | T Loss Object: 0.0005 | V Loss Object: 0.0006\n",
      "Epoch [93/200] LR [1e-04/1e-06] T Loss Replay: 0.0204 | V Loss Replay: 0.0242 | T Loss Object: 0.0005 | V Loss Object: 0.0006\n",
      "Epoch [94/200] LR [1e-04/1e-06] T Loss Replay: 0.0204 | V Loss Replay: 0.0242 | T Loss Object: 0.0005 | V Loss Object: 0.0005\n",
      "Epoch [95/200] LR [1e-05/1e-06] T Loss Replay: 0.0204 | V Loss Replay: 0.0242 | T Loss Object: 0.0005 | V Loss Object: 0.0005\n",
      "Epoch [96/200] LR [1e-05/1e-06] T Loss Replay: 0.0204 | V Loss Replay: 0.0241 | T Loss Object: 0.0005 | V Loss Object: 0.0005\n",
      "Epoch [97/200] LR [1e-05/1e-06] T Loss Replay: 0.0204 | V Loss Replay: 0.0242 | T Loss Object: 0.0005 | V Loss Object: 0.0005\n",
      "Epoch [98/200] LR [1e-05/1e-06] T Loss Replay: 0.0204 | V Loss Replay: 0.0242 | T Loss Object: 0.0005 | V Loss Object: 0.0005\n",
      "Epoch [99/200] LR [1e-05/1e-06] T Loss Replay: 0.0204 | V Loss Replay: 0.0242 | T Loss Object: 0.0005 | V Loss Object: 0.0005\n",
      "Epoch [100/200] LR [1e-05/1e-06] T Loss Replay: 0.0204 | V Loss Replay: 0.0242 | T Loss Object: 0.0005 | V Loss Object: 0.0005\n",
      "Epoch [101/200] LR [1e-05/1e-06] T Loss Replay: 0.0204 | V Loss Replay: 0.0242 | T Loss Object: 0.0005 | V Loss Object: 0.0005\n",
      "Epoch [102/200] LR [1e-05/1e-06] T Loss Replay: 0.0204 | V Loss Replay: 0.0242 | T Loss Object: 0.0005 | V Loss Object: 0.0005\n",
      "Epoch [103/200] LR [1e-05/1e-06] T Loss Replay: 0.0204 | V Loss Replay: 0.0242 | T Loss Object: 0.0005 | V Loss Object: 0.0005\n",
      "Epoch [104/200] LR [1e-05/1e-06] T Loss Replay: 0.0204 | V Loss Replay: 0.0242 | T Loss Object: 0.0005 | V Loss Object: 0.0005\n",
      "Epoch [105/200] LR [1e-05/1e-06] T Loss Replay: 0.0204 | V Loss Replay: 0.0242 | T Loss Object: 0.0005 | V Loss Object: 0.0005\n",
      "Epoch [106/200] LR [1e-05/1e-06] T Loss Replay: 0.0204 | V Loss Replay: 0.0242 | T Loss Object: 0.0005 | V Loss Object: 0.0005\n",
      "Epoch [107/200] LR [1e-05/1e-06] T Loss Replay: 0.0204 | V Loss Replay: 0.0242 | T Loss Object: 0.0005 | V Loss Object: 0.0005\n",
      "Epoch [108/200] LR [1e-05/1e-06] T Loss Replay: 0.0204 | V Loss Replay: 0.0242 | T Loss Object: 0.0005 | V Loss Object: 0.0005\n",
      "Epoch [109/200] LR [1e-05/1e-06] T Loss Replay: 0.0204 | V Loss Replay: 0.0242 | T Loss Object: 0.0005 | V Loss Object: 0.0005\n",
      "Epoch [110/200] LR [1e-05/1e-06] T Loss Replay: 0.0204 | V Loss Replay: 0.0242 | T Loss Object: 0.0005 | V Loss Object: 0.0005\n",
      "Epoch [111/200] LR [1e-06/1e-06] T Loss Replay: 0.0204 | V Loss Replay: 0.0242 | T Loss Object: 0.0005 | V Loss Object: 0.0005\n",
      "Epoch [112/200] LR [1e-06/1e-06] T Loss Replay: 0.0204 | V Loss Replay: 0.0242 | T Loss Object: 0.0005 | V Loss Object: 0.0005\n",
      "Epoch [113/200] LR [1e-06/1e-06] T Loss Replay: 0.0204 | V Loss Replay: 0.0242 | T Loss Object: 0.0005 | V Loss Object: 0.0005\n",
      "Epoch [114/200] LR [1e-06/1e-06] T Loss Replay: 0.0204 | V Loss Replay: 0.0242 | T Loss Object: 0.0005 | V Loss Object: 0.0005\n",
      "Epoch [115/200] LR [1e-06/1e-06] T Loss Replay: 0.0204 | V Loss Replay: 0.0242 | T Loss Object: 0.0005 | V Loss Object: 0.0005\n",
      "Epoch [116/200] LR [1e-06/1e-06] T Loss Replay: 0.0204 | V Loss Replay: 0.0242 | T Loss Object: 0.0005 | V Loss Object: 0.0005\n",
      "Epoch [117/200] LR [1e-06/1e-06] T Loss Replay: 0.0204 | V Loss Replay: 0.0242 | T Loss Object: 0.0005 | V Loss Object: 0.0005\n",
      "Epoch [118/200] LR [1e-06/1e-06] T Loss Replay: 0.0204 | V Loss Replay: 0.0242 | T Loss Object: 0.0005 | V Loss Object: 0.0005\n",
      "Epoch [119/200] LR [1e-06/1e-06] T Loss Replay: 0.0204 | V Loss Replay: 0.0242 | T Loss Object: 0.0005 | V Loss Object: 0.0005\n",
      "Epoch [120/200] LR [1e-06/1e-06] T Loss Replay: 0.0204 | V Loss Replay: 0.0242 | T Loss Object: 0.0005 | V Loss Object: 0.0005\n",
      "Epoch [121/200] LR [1e-06/1e-06] T Loss Replay: 0.0204 | V Loss Replay: 0.0242 | T Loss Object: 0.0005 | V Loss Object: 0.0005\n",
      "Epoch [122/200] LR [1e-06/1e-06] T Loss Replay: 0.0204 | V Loss Replay: 0.0242 | T Loss Object: 0.0005 | V Loss Object: 0.0005\n",
      "Epoch [123/200] LR [1e-06/1e-06] T Loss Replay: 0.0204 | V Loss Replay: 0.0242 | T Loss Object: 0.0005 | V Loss Object: 0.0005\n",
      "Epoch [124/200] LR [1e-06/1e-06] T Loss Replay: 0.0204 | V Loss Replay: 0.0242 | T Loss Object: 0.0005 | V Loss Object: 0.0005\n",
      "Epoch [125/200] LR [1e-06/1e-06] T Loss Replay: 0.0204 | V Loss Replay: 0.0242 | T Loss Object: 0.0005 | V Loss Object: 0.0005\n",
      "Epoch [126/200] LR [1e-06/1e-06] T Loss Replay: 0.0204 | V Loss Replay: 0.0242 | T Loss Object: 0.0005 | V Loss Object: 0.0005\n",
      "Reached early stopping condition\n",
      "Training completed in 877.63 seconds\n"
     ]
    }
   ],
   "source": [
    "# Training\n",
    "%autoreload 2\n",
    "from Model.modelmanager.PositionModel import PositionModel\n",
    "\n",
    "VERSION = '0.16'\n",
    "p_model = PositionModel(f'OSU_model_pos_{VERSION}', config)\n",
    "p_model.train(train_loader, valid_loaders)\n",
    "p_model.save_model()"
   ]
  }
 ],
 "metadata": {
  "kernelspec": {
   "display_name": "osu",
   "language": "python",
   "name": "python3"
  },
  "language_info": {
   "codemirror_mode": {
    "name": "ipython",
    "version": 3
   },
   "file_extension": ".py",
   "mimetype": "text/x-python",
   "name": "python",
   "nbconvert_exporter": "python",
   "pygments_lexer": "ipython3",
   "version": "3.12.6"
  }
 },
 "nbformat": 4,
 "nbformat_minor": 2
}
