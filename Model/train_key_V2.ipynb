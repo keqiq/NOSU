{
 "cells": [
  {
   "cell_type": "code",
   "execution_count": null,
   "metadata": {},
   "outputs": [],
   "source": [
    "%load_ext autoreload\n",
    "import json\n",
    "import warnings\n",
    "warnings.filterwarnings(\"ignore\", category=FutureWarning, message=\".*weights_only=False.*\")\n",
    "import sys\n",
    "from pathlib import Path\n",
    "sys.path.append(str(Path.cwd().parent))\n",
    "\n",
    "set_paths = {\n",
    "    'train': '../Data/train_key',\n",
    "    'valid': '../Data/valid_key'\n",
    "}\n",
    "\n",
    "with open('config.json', 'r') as f:\n",
    "    config = json.load(f)\n",
    "config = config['default']"
   ]
  },
  {
   "cell_type": "code",
   "execution_count": null,
   "metadata": {},
   "outputs": [],
   "source": [
    "# Data Parsing\n",
    "%autoreload 2\n",
    "from utils.dataparser.KeypressData import KeypressData\n",
    "from utils.dataparser.OSUDataloader import OSUDataloader\n",
    "\n",
    "kdata = KeypressData(set_paths, config, True)\n",
    "k_dataloader = OSUDataloader(kdata, config, True)\n",
    "train_loader, valid_loaders = k_dataloader.get_loaders(set_paths)"
   ]
  },
  {
   "cell_type": "code",
   "execution_count": null,
   "metadata": {},
   "outputs": [],
   "source": [
    "# Training\n",
    "%autoreload 2\n",
    "from Model.modelmanager.KeypressModel import KeypressModel\n",
    "\n",
    "VERSION = '0.4'\n",
    "k_model = KeypressModel(f'OSU_model_key_{VERSION}', config)\n",
    "k_model.train(train_loader, valid_loaders)\n",
    "k_model.save_model()"
   ]
  }
 ],
 "metadata": {
  "kernelspec": {
   "display_name": "osu",
   "language": "python",
   "name": "python3"
  },
  "language_info": {
   "name": "python",
   "version": "3.12.6"
  }
 },
 "nbformat": 4,
 "nbformat_minor": 2
}
